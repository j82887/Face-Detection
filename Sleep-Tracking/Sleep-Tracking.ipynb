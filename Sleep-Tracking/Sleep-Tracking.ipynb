{
 "cells": [
  {
   "cell_type": "code",
   "execution_count": 1,
   "metadata": {},
   "outputs": [
    {
     "name": "stdout",
     "output_type": "stream",
     "text": [
      "pygame 1.9.6\n",
      "Hello from the pygame community. https://www.pygame.org/contribute.html\n"
     ]
    }
   ],
   "source": [
    "from imutils.video import VideoStream\n",
    "from imutils import face_utils\n",
    "from pygame import mixer\n",
    "mixer.init()\n",
    "\n",
    "import imutils\n",
    "import numpy as np\n",
    "import time\n",
    "import dlib\n",
    "import cv2"
   ]
  },
  {
   "cell_type": "code",
   "execution_count": 2,
   "metadata": {},
   "outputs": [],
   "source": [
    "#計算眼睛的寬高比\n",
    "def eyesRatio(eye):\n",
    "    hight1 = np.linalg.norm(eye[1] - eye[5])\n",
    "    hight2 = np.linalg.norm(eye[2] - eye[4])\n",
    "    width = np.linalg.norm(eye[2] - eye[4])\n",
    "    return (hight1+hight2) / (2.0*width)"
   ]
  },
  {
   "cell_type": "code",
   "execution_count": 3,
   "metadata": {},
   "outputs": [],
   "source": [
    "#眼睛寬高比的臨界值，由前30張圖像平均而得\n",
    "eyesRatioLimit=0  \n",
    "#數據採集的計數，採集30次然後取平均值\n",
    "collectCount=0  \n",
    "#用於數據採集的求和\n",
    "collectSum=0  \n",
    "#是否開始檢測\n",
    "startCheck=False  \n",
    "#統計\"閉眼\"的次數\n",
    "eyesCloseCount=0  \n",
    "#統計\"閉眼\"的次數\n",
    "eyesOpenCount=0 "
   ]
  },
  {
   "cell_type": "code",
   "execution_count": null,
   "metadata": {},
   "outputs": [],
   "source": [
    "detector=dlib.get_frontal_face_detector()\n",
    "predictor=dlib.shape_predictor(\"Model/shape_predictor_68_face_landmarks.dat\")\n",
    "\n",
    "#左右眼索引\n",
    "(left_Start,left_End)=face_utils.FACIAL_LANDMARKS_IDXS[\"left_eye\"]\n",
    "(right_Start,right_End)=face_utils.FACIAL_LANDMARKS_IDXS[\"right_eye\"]\n",
    "\n",
    "#開啟攝影機，延遲2秒鐘\n",
    "vsThread=VideoStream(src=0).start()\n",
    "time.sleep(2.0)\n",
    "\n",
    "#循環檢測\n",
    "while True:\n",
    "    frame = vsThread.read()\n",
    "    frame = imutils.resize(frame, width=720)\n",
    "    faces = detector(frame, 0)  \n",
    "    for face in faces:\n",
    "        shape = predictor(frame, face)  \n",
    "        shape = face_utils.shape_to_np(shape)  \n",
    "        \n",
    "        #左右眼\n",
    "        leftEye = shape[left_Start:left_End]\n",
    "        rightEye = shape[right_Start:right_End]\n",
    "        leftEyesVal = eyesRatio(leftEye)\n",
    "        rightEyesVal = eyesRatio(rightEye)\n",
    "        \n",
    "        #凸殼\n",
    "        leftEyeHull = cv2.convexHull(leftEye)\n",
    "        rightEyeHull = cv2.convexHull(rightEye)\n",
    "        \n",
    "        #繪製輪廓\n",
    "        cv2.drawContours(frame, [leftEyeHull], -1, (0, 255, 0), 1)\n",
    "        cv2.drawContours(frame, [rightEyeHull], -1, (0, 255, 0), 1)\n",
    "        \n",
    "        #取兩隻眼長寬比的的平均值\n",
    "        eyeRatioVal = (leftEyesVal + rightEyesVal) / 2.0 \n",
    "        \n",
    "        #計算30次平均值\n",
    "        if collectCount<30:\n",
    "            collectCount+=1\n",
    "            collectSum+=eyeRatioVal\n",
    "            startCheck=False\n",
    "        else:\n",
    "            if not startCheck:\n",
    "                eyesRatioLimit=collectSum/(1.0*30)\n",
    "            startCheck=True\n",
    "\n",
    "        #閉眼次數超過指定次則認為已經睡著\n",
    "        if startCheck:\n",
    "            \n",
    "            #如果眼睛長寬比大於之前檢測到的臨界值，則計數\n",
    "            if eyeRatioVal < eyesRatioLimit:  \n",
    "                eyesCloseCount += 1\n",
    "                eyesOpenCount = 0\n",
    "                \n",
    "                #次數超過設定值\n",
    "                if eyesCloseCount >= 30:  \n",
    "                    cv2.putText(frame, \"SLEEP!!!\", (580, 30),cv2.FONT_HERSHEY_SIMPLEX, 0.8, (0, 0, 255), 2)\n",
    "                    #發出聲音\n",
    "                    mixer.music.load('Image_test/bb.wav')\n",
    "                    mixer.music.play()  \n",
    "            else: \n",
    "                eyesOpenCount += 1\n",
    "                if eyesOpenCount > 2:\n",
    "                    eyesCloseCount = 0\n",
    "            \n",
    "            #眼睛寬高比\n",
    "            cv2.putText(frame, \"EYES_RATIO: {:.2f}\".format(eyeRatioVal), (20, 30),cv2.FONT_HERSHEY_SIMPLEX, 0.6, (0, 160, 0), 2)\n",
    "            \n",
    "            #閉眼次數\n",
    "            cv2.putText(frame,\"EYES_COLSE: {}\".format(eyesCloseCount),(320,30),cv2.FONT_HERSHEY_SIMPLEX,0.6,(0,160,0),2)\n",
    "\n",
    "    cv2.imshow(\"Frame\", frame)\n",
    "    if cv2.waitKey(10) == 27:  break\n",
    "\n",
    "cv2.destroyAllWindows()\n",
    "vsThread.stop()"
   ]
  },
  {
   "cell_type": "code",
   "execution_count": null,
   "metadata": {},
   "outputs": [],
   "source": []
  }
 ],
 "metadata": {
  "kernelspec": {
   "display_name": "Python 3",
   "language": "python",
   "name": "python3"
  },
  "language_info": {
   "codemirror_mode": {
    "name": "ipython",
    "version": 3
   },
   "file_extension": ".py",
   "mimetype": "text/x-python",
   "name": "python",
   "nbconvert_exporter": "python",
   "pygments_lexer": "ipython3",
   "version": "3.6.10"
  }
 },
 "nbformat": 4,
 "nbformat_minor": 4
}
