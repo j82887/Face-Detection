{
 "cells": [
  {
   "cell_type": "markdown",
   "id": "6d0f2424",
   "metadata": {},
   "source": [
    "## **執行YOLOv7 (Run YOLOv7 on CPU/GPU)**\n",
    "\n",
    "YOLOV7 是物件偵測應用設計的 YOLO 算法的最新流行版本，以驚人的FPS實現了高mAP。\n",
    "\n",
    "### **教程 (Tutorial)**\n",
    "\n",
    "我們將實施以下步驟：\n",
    "\n",
    "1. 安裝 YOLOv7 依賴項。\n",
    "2. 對單個**影像**進行推理與預測。\n",
    "3. 下載示例**影片**並在其上運行 YOLOv7 推理與預測。\n",
    "4. 在**網絡攝影機**上運行 YOLOv7。"
   ]
  },
  {
   "cell_type": "markdown",
   "id": "db122b11",
   "metadata": {},
   "source": [
    "### 01. 安裝YOLOv7依賴項 (Setting up Dependencies)"
   ]
  },
  {
   "cell_type": "code",
   "execution_count": null,
   "id": "4524d354",
   "metadata": {},
   "outputs": [],
   "source": [
    "# 如果使用Google Colab\n",
    "%%bash\n",
    "git clone https://github.com/WongKinYiu/yolov7.git\n",
    "cd yolov7\n",
    "wget https://raw.githubusercontent.com/WongKinYiu/yolov7/u5/requirements.txt\n",
    "pip install -r requirements.txt"
   ]
  },
  {
   "cell_type": "code",
   "execution_count": null,
   "id": "89a771ea",
   "metadata": {},
   "outputs": [],
   "source": [
    "# 如果使用本機安裝，請用命令提示字元執行(移除驚嘆號)\n",
    "! git clone https://github.com/WongKinYiu/yolov7.git\n",
    "! cd yolov7\n",
    "! pip install -r requirements.txt"
   ]
  },
  {
   "cell_type": "code",
   "execution_count": null,
   "id": "7c0bec3e",
   "metadata": {},
   "outputs": [],
   "source": [
    "# 在yolov7資料夾中建立weights資料夾\n",
    "import os\n",
    "if not os.path.isdir(\"weights\"):\n",
    "    os.makedirs(\"weights\")"
   ]
  },
  {
   "cell_type": "markdown",
   "id": "60fc5118",
   "metadata": {},
   "source": [
    "* 下載yolov7.pt的權重[[連結]](https://github.com/WongKinYiu/yolov7/releases/download/v0.1/yolov7.pt)，並儲存至yolov7/weights資料夾中"
   ]
  },
  {
   "cell_type": "code",
   "execution_count": 1,
   "id": "b855003a",
   "metadata": {},
   "outputs": [
    {
     "name": "stderr",
     "output_type": "stream",
     "text": [
      "C:\\Users\\j8288\\.conda\\envs\\yolov7\\lib\\site-packages\\tqdm\\auto.py:22: TqdmWarning: IProgress not found. Please update jupyter and ipywidgets. See https://ipywidgets.readthedocs.io/en/stable/user_install.html\n",
      "  from .autonotebook import tqdm as notebook_tqdm\n"
     ]
    }
   ],
   "source": [
    "import argparse\n",
    "import time\n",
    "from pathlib import Path\n",
    "import cv2\n",
    "import torch\n",
    "import numpy as np\n",
    "import torch.backends.cudnn as cudnn\n",
    "from numpy import random\n",
    "\n",
    "from models.experimental import attempt_load\n",
    "from utils.datasets import LoadStreams, LoadImages\n",
    "from utils.general import check_img_size, check_requirements, check_imshow, non_max_suppression, apply_classifier, \\\n",
    "    scale_coords, xyxy2xywh, strip_optimizer, set_logging, increment_path\n",
    "from utils.plots import plot_one_box\n",
    "from utils.torch_utils import select_device, load_classifier, time_synchronized, TracedModel"
   ]
  },
  {
   "cell_type": "code",
   "execution_count": null,
   "id": "e8bee532",
   "metadata": {},
   "outputs": [],
   "source": [
    "def letterbox(img, new_shape=(640, 640), color=(114, 114, 114), auto=True, scaleFill=False, scaleup=True, stride=32):\n",
    "    # 滿足步幅倍數約束，並調整圖像大小和填充圖像\n",
    "    # Resize and pad image while meeting stride-multiple constraints\n",
    "    \n",
    "    shape = img.shape[:2]  \n",
    "    \n",
    "    # 判斷變數是否是一個已知的型別\n",
    "    if isinstance(new_shape, int):\n",
    "        new_shape = (new_shape, new_shape)\n",
    "\n",
    "    # 比率(新/原來) \n",
    "    # Scale ratio (new / old)\n",
    "    r = min(new_shape[0] / shape[0], new_shape[1] / shape[1])\n",
    "    \n",
    "    # 只縮小，不放大（為了更好的測試結果 mAP）\n",
    "    # only scale down, do not scale up (for better test mAP)\n",
    "    if not scaleup:  \n",
    "        r = min(r, 1.0)\n",
    "\n",
    "    # 計算填充 (Compute padding)\n",
    "    ratio = r, r  # width, height ratios\n",
    "    new_unpad = int(round(shape[1] * r)), int(round(shape[0] * r))\n",
    "    dw, dh = new_shape[1] - new_unpad[0], new_shape[0] - new_unpad[1]  # wh padding\n",
    "    if auto:  # minimum rectangle\n",
    "        dw, dh = np.mod(dw, stride), np.mod(dh, stride)  # wh padding\n",
    "    elif scaleFill:  # stretch\n",
    "        dw, dh = 0.0, 0.0\n",
    "        new_unpad = (new_shape[1], new_shape[0])\n",
    "        ratio = new_shape[1] / shape[1], new_shape[0] / shape[0]  # width, height ratios\n",
    "\n",
    "    dw /= 2  # divide padding into 2 sides\n",
    "    dh /= 2\n",
    "\n",
    "    if shape[::-1] != new_unpad:  # resize\n",
    "        img = cv2.resize(img, new_unpad, interpolation=cv2.INTER_LINEAR)\n",
    "    top, bottom = int(round(dh - 0.1)), int(round(dh + 0.1))\n",
    "    left, right = int(round(dw - 0.1)), int(round(dw + 0.1))\n",
    "    img = cv2.copyMakeBorder(img, top, bottom, left, right, cv2.BORDER_CONSTANT, value=color)  # add border\n",
    "    return img, ratio, (dw, dh)"
   ]
  },
  {
   "cell_type": "code",
   "execution_count": 63,
   "id": "42bf497a",
   "metadata": {},
   "outputs": [],
   "source": [
    "# 您可以提供按名稱過濾的類別列表，並不用輸入類別編號，例如 ['train','person']\n",
    "# You can give list of classes to filter by name, Be happy you don't have to put class number. ['train','person' ]\n",
    "\n",
    "#classes_to_filter = ['train'] \n",
    "classes_to_filter = []\n",
    "\n",
    "# opt字典: 儲存參數\n",
    "opt  = {\n",
    "    \n",
    "    # 權重模型位置 (Path to weights file default weights are for nano model)\n",
    "    #\"weights\": \"weights/yolov7.pt\", \n",
    "    \"weights\": \"weights/best.pt\", \n",
    "    \n",
    "    # 標籤名稱\n",
    "    #\"yaml\"   : \"data/coco.yaml\",\n",
    "    \"yaml\"   : \"data/data.yaml\",\n",
    "    \n",
    "    # 輸入影像大小 (default image size)\n",
    "    \"img-size\": 640, \n",
    "    \n",
    "    # 預測的置信度臨界值 (confidence threshold for inference)\n",
    "    \"conf-thres\": 0.25, \n",
    "    \n",
    "    # 非最大抑制的IoU臨界值 (NMS IoU threshold for inference)\n",
    "    \"iou-thres\" : 0.45,\n",
    "    \n",
    "    # 設備是否(不)啟用GPU(CPU)\n",
    "    \"device\" : 'cpu',  # device to run our model i.e. 0 or 0,1,2,3 or cpu\n",
    "    \n",
    "    # 不顯示的類別 (list of classes to filter or None)\n",
    "    \"classes\" : classes_to_filter\n",
    "}"
   ]
  },
  {
   "cell_type": "code",
   "execution_count": 68,
   "id": "9b541b72",
   "metadata": {},
   "outputs": [
    {
     "name": "stdout",
     "output_type": "stream",
     "text": [
      "device.type != cpu: False\n",
      "Fusing layers... \n",
      "RepConv.fuse_repvgg_block\n",
      "RepConv.fuse_repvgg_block\n",
      "RepConv.fuse_repvgg_block\n",
      "stride: 32\n"
     ]
    }
   ],
   "source": [
    "# 給與影像來源位置 (Give path of source image)\n",
    "#source_image_path = 'inference/images/horses.jpg'\n",
    "source_image_path = 'inference/images/1.jpg'\n",
    "\n",
    "with torch.no_grad():\n",
    "    \n",
    "    weights, imgsz = opt['weights'], opt['img-size']\n",
    "    #set_logging()\n",
    "    device = select_device(opt['device'])\n",
    "    half = device.type != 'cpu'\n",
    "    print(\"device.type != cpu:\", half)\n",
    "    model = attempt_load(weights, map_location=device)  # load FP32 model\n",
    "    stride = int(model.stride.max())  # model stride\n",
    "    print(\"stride:\", stride)\n",
    "    imgsz = check_img_size(imgsz, s=stride)  # check img_size\n",
    "    names = model.module.names if hasattr(model, 'module') else model.names\n",
    "    colors = [[random.randint(0, 255) for _ in range(3)] for _ in names]\n",
    "    model(torch.zeros(1, 3, imgsz, imgsz).to(device).type_as(next(model.parameters())))\n",
    "\n",
    "    img0 = cv2.imread(source_image_path)\n",
    "    img = letterbox(img0, imgsz, stride=stride)[0]\n",
    "    img = img[:, :, ::-1].transpose(2, 0, 1)  # BGR to RGB, to 3x416x416\n",
    "    img = np.ascontiguousarray(img)\n",
    "    img = torch.from_numpy(img).to(device)\n",
    "    img = img.half() if half else img.float()  # uint8 to fp16/32\n",
    "    img /= 255.0  # 0 - 255 to 0.0 - 1.0\n",
    "    if img.ndimension() == 3:\n",
    "        img = img.unsqueeze(0)\n",
    "\n",
    "    # 推斷 (Inference)\n",
    "    t1 = time_synchronized()\n",
    "    pred = model(img, augment= False)[0]\n",
    "    \n",
    "    # Apply NMS\n",
    "    classes = None\n",
    "    if opt['classes']:\n",
    "        classes = []\n",
    "        for class_name in opt['classes']:\n",
    "            classes.append(names.index(class_name))\n",
    "\n",
    "    if classes:\n",
    "        classes = [i for i in range(len(names)) if i not in classes]\n",
    "    \n",
    "    #pred = non_max_suppression(pred, opt['conf-thres'], opt['iou-thres'], classes= [17], agnostic= False)\n",
    "    pred = non_max_suppression(pred, opt['conf-thres'], opt['iou-thres'], agnostic= False)\n",
    "    t2 = time_synchronized()\n",
    "    for i, det in enumerate(pred):\n",
    "        s = ''\n",
    "        s += '%gx%g ' % img.shape[2:]  \n",
    "        gn = torch.tensor(img0.shape)[[1, 0, 1, 0]]\n",
    "        if len(det):\n",
    "            det[:, :4] = scale_coords(img.shape[2:], det[:, :4], img0.shape).round()\n",
    "\n",
    "            for c in det[:, -1].unique():\n",
    "                n = (det[:, -1] == c).sum()  # detections per class\n",
    "                s += f\"{n} {names[int(c)]}{'s' * (n > 1)}, \"  # add to string\n",
    "    \n",
    "            for *xyxy, conf, cls in reversed(det):\n",
    "                label = f'{names[int(cls)]} {conf:.2f}'\n",
    "                plot_one_box(xyxy, img0, label=label, color=colors[int(cls)], line_thickness=3)"
   ]
  },
  {
   "cell_type": "code",
   "execution_count": 69,
   "id": "45694419",
   "metadata": {},
   "outputs": [],
   "source": [
    "# 顯示圖片\n",
    "cv2.imshow('My Image', img0)\n",
    "\n",
    "# 按下任意鍵則關閉所有視窗\n",
    "cv2.waitKey(0)\n",
    "cv2.destroyAllWindows()"
   ]
  },
  {
   "cell_type": "markdown",
   "id": "d4fbed94",
   "metadata": {},
   "source": [
    "* numpy.ascontiguousarray(): 將一個內存不連續存儲的數組轉換為內存連續存儲的數組，使得運行速度更快\n",
    "* torch.from_numpy(array): 將numpy的陣列轉為torch中的張量\n",
    "* torch.Tensor.ndimension(): 計算張量的維度\n",
    "* torch.Tensor.unsqueeze(i): 在張量中第i個增加一個維度"
   ]
  },
  {
   "cell_type": "code",
   "execution_count": 66,
   "id": "07170ecf",
   "metadata": {},
   "outputs": [
    {
     "name": "stdout",
     "output_type": "stream",
     "text": [
      "Fusing layers... \n",
      "RepConv.fuse_repvgg_block\n",
      "RepConv.fuse_repvgg_block\n",
      "RepConv.fuse_repvgg_block\n"
     ]
    }
   ],
   "source": [
    "with torch.no_grad():\n",
    "    weights, imgsz = opt['weights'], opt['img-size']\n",
    "    device = select_device(opt['device'])\n",
    "    half = device.type != 'cpu'\n",
    "    model = attempt_load(weights, map_location=device)  \n",
    "    stride = int(model.stride.max())  \n",
    "    imgsz = check_img_size(imgsz, s=stride)  \n",
    "    names = model.module.names if hasattr(model, 'module') else model.names\n",
    "    colors = [[random.randint(0, 255) for _ in range(3)] for _ in names]\n",
    "    model(torch.zeros(1, 3, imgsz, imgsz).to(device).type_as(next(model.parameters())))\n",
    "    \n",
    "    classes = None\n",
    "    if opt['classes']:\n",
    "        classes = []\n",
    "        for class_name in opt['classes']:\n",
    "            classes.append(names.index(class_name))\n",
    "\n",
    "    if classes:\n",
    "        classes = [i for i in range(len(names)) if i not in classes]\n",
    "    \n",
    "def yolov7_inference(img0):\n",
    "    img = letterbox(img0, imgsz, stride=stride)[0]\n",
    "    img = img[:, :, ::-1].transpose(2, 0, 1)  # BGR to RGB, to 3x416x416\n",
    "    img = np.ascontiguousarray(img)\n",
    "    img = torch.from_numpy(img).to(device).float() \n",
    "    img /= 255.0\n",
    "    if img.ndimension() == 3:\n",
    "        img = img.unsqueeze(0)\n",
    "\n",
    "    pred = model(img, augment= False)[0]\n",
    "    pred = non_max_suppression(pred, opt['conf-thres'], opt['iou-thres'], agnostic= False)\n",
    "\n",
    "    for i, det in enumerate(pred):\n",
    "        s = ''\n",
    "        s += '%gx%g ' % img.shape[2:]  \n",
    "        gn = torch.tensor(img0.shape)[[1, 0, 1, 0]]\n",
    "        if len(det):\n",
    "            det[:, :4] = scale_coords(img.shape[2:], det[:, :4], img0.shape).round()\n",
    "\n",
    "            for c in det[:, -1].unique():\n",
    "                n = (det[:, -1] == c).sum()  # detections per class\n",
    "                s += f\"{n} {names[int(c)]}{'s' * (n > 1)}, \"  # add to string\n",
    "\n",
    "            for *xyxy, conf, cls in reversed(det):\n",
    "                label = f'{names[int(cls)]} {conf:.2f}'\n",
    "                plot_one_box(xyxy, img0, label=label, color=colors[int(cls)], line_thickness=3)\n",
    "    return img0"
   ]
  },
  {
   "cell_type": "code",
   "execution_count": 67,
   "id": "68e6f54c",
   "metadata": {},
   "outputs": [],
   "source": [
    "VIDEO_IN = cv2.VideoCapture(0)\n",
    "while True:\n",
    "    hasFrame, img = VIDEO_IN.read()\n",
    "    #img = cv2.resize(img, None, fx=0.6, fy=0.6)\n",
    "    img = yolov7_inference(img)\n",
    "    cv2.imshow(\"Frame\", img)\n",
    "    if cv2.waitKey(1) & 0xFF == ord('q'):\n",
    "        break\n",
    "VIDEO_IN.release()\n",
    "cv2.destroyAllWindows()"
   ]
  },
  {
   "cell_type": "code",
   "execution_count": null,
   "id": "c794dd82",
   "metadata": {},
   "outputs": [],
   "source": []
  }
 ],
 "metadata": {
  "kernelspec": {
   "display_name": "Python 3 (ipykernel)",
   "language": "python",
   "name": "python3"
  },
  "language_info": {
   "codemirror_mode": {
    "name": "ipython",
    "version": 3
   },
   "file_extension": ".py",
   "mimetype": "text/x-python",
   "name": "python",
   "nbconvert_exporter": "python",
   "pygments_lexer": "ipython3",
   "version": "3.7.13"
  }
 },
 "nbformat": 4,
 "nbformat_minor": 5
}
