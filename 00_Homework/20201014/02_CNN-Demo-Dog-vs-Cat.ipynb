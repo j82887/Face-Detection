{
 "cells": [
  {
   "cell_type": "code",
   "execution_count": 1,
   "metadata": {},
   "outputs": [],
   "source": [
    "import tkinter as tk \n",
    "from PIL import Image, ImageTk\n",
    "from tkinter import filedialog, messagebox \n",
    "from tkinter.font import Font \n",
    "import pandas as pd \n",
    "import numpy as np\n",
    "import joblib \n",
    "from tensorflow.keras.models import load_model\n",
    "\n",
    "import warnings\n",
    "warnings.filterwarnings(\"ignore\")\n",
    "\n",
    "cnn = load_model('cnn_dog_vs_cat.h5', compile = False)\n",
    "feature_name = ['Cat', 'Dog'] "
   ]
  },
  {
   "cell_type": "code",
   "execution_count": 2,
   "metadata": {},
   "outputs": [],
   "source": [
    "def open_file():\n",
    "    \n",
    "    filename = filedialog.askopenfilename(title='Select file', \n",
    "                                          filetypes=[(\"all files\",\"*.*\"),\n",
    "                                                     (\"png files\",\"*.png\"),\n",
    "                                                     (\"jpg files\",\"*.jpg\"),\n",
    "                                                     (\"jpeg files\",\"*.jpeg\")])\n",
    "    img = Image.open(filename).resize((320,250))\n",
    "    imgtk = ImageTk.PhotoImage(img)\n",
    "    label_img.config(image = imgtk)\n",
    "    label_img.image = imgtk\n",
    "    \n",
    "    img_predict = Image.open(filename).resize((100,100))\n",
    "    npimg = np.asarray(img_predict, dtype=\"uint8\")\n",
    "    img_predict_nor = npimg.astype('float32')/255\n",
    "    predict = cnn.predict(np.array([img_predict_nor]))\n",
    "    predictions = [np.argmax(one_hot)for one_hot in predict]\n",
    "    label_predict.config(text = \"%s : %0.4f\" %(feature_name[predictions[0]], max(predict[0])))"
   ]
  },
  {
   "cell_type": "code",
   "execution_count": 3,
   "metadata": {},
   "outputs": [],
   "source": [
    "app = tk.Tk()\n",
    "app.title('Cat v.s. Dog')\n",
    "app.geometry('450x420')\n",
    "\n",
    "title_label_Font = Font(family=\"Times\", size=18, underline=1)\n",
    "subtitle_label_Font_1 = Font(family=\"Times\", size=14)\n",
    "\n",
    "frame_title = tk.Frame(app)\n",
    "frame_title.grid(column=0, row=0, ipadx=3, pady=3)\n",
    "\n",
    "frame_image = tk.Frame(app)\n",
    "frame_image.grid(column=0, row=1, ipadx=3, pady=3)\n",
    "\n",
    "frame_input = tk.Frame(app)\n",
    "frame_input.grid(column=0, row=2, ipadx=3, pady=3)\n",
    "\n",
    "label_Title = tk.Label(frame_title, text=\"Cat & Dog Classification\", font=title_label_Font)\n",
    "label_Title.grid(column=0, row=0, ipadx=100, pady=0)\n",
    "\n",
    "label_Subtitle = tk.Label(frame_title, text=\"※ Please enter the correct image.\", font=subtitle_label_Font_1)\n",
    "label_Subtitle.grid(column=0, row=1, ipadx=5, pady=5)\n",
    "\n",
    "img = Image.open(\"pre-inserted picture.png\").resize((320,250))\n",
    "imgtk = ImageTk.PhotoImage(img)\n",
    "label_img = tk.Label(frame_image, image=imgtk)\n",
    "label_img.grid(column=0, row=0, ipadx=5, pady=0)\n",
    "\n",
    "predict_name = \"Prediction : No file\"\n",
    "label_predict = tk.Label(frame_input, text = predict_name, font=subtitle_label_Font_1)\n",
    "label_predict.grid(column=0, row=0, pady=0)\n",
    "\n",
    "openButton = tk.Button(frame_input, text = 'Open file', command = open_file)\n",
    "openButton.grid(column=0, row=1, pady=10)\n",
    "\n",
    "app.mainloop()"
   ]
  },
  {
   "cell_type": "code",
   "execution_count": null,
   "metadata": {},
   "outputs": [],
   "source": []
  }
 ],
 "metadata": {
  "kernelspec": {
   "display_name": "Python 3",
   "language": "python",
   "name": "python3"
  },
  "language_info": {
   "codemirror_mode": {
    "name": "ipython",
    "version": 3
   },
   "file_extension": ".py",
   "mimetype": "text/x-python",
   "name": "python",
   "nbconvert_exporter": "python",
   "pygments_lexer": "ipython3",
   "version": "3.6.10"
  }
 },
 "nbformat": 4,
 "nbformat_minor": 4
}
