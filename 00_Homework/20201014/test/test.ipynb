{
 "cells": [
  {
   "cell_type": "code",
   "execution_count": 1,
   "metadata": {},
   "outputs": [],
   "source": [
    "import matplotlib.pyplot as plt\n",
    "import numpy as np\n",
    "import warnings\n",
    "warnings.filterwarnings(\"ignore\")"
   ]
  },
  {
   "cell_type": "code",
   "execution_count": 2,
   "metadata": {},
   "outputs": [
    {
     "name": "stdout",
     "output_type": "stream",
     "text": [
      "表情為： 開心\n"
     ]
    }
   ],
   "source": [
    "# 讀取txt\n",
    "save_list = []\n",
    "with open(\"normal/data_20201227_101923.txt\", \"r\") as filestream: \n",
    "    for line in filestream: \n",
    "        save_list.append(line)\n",
    "\n",
    "# 打印出表情\n",
    "print(\"表情為：\",save_list[1])\n",
    "\n",
    "# 列表中以逗點分割\n",
    "arr = save_list[0][1:-2].split(',')"
   ]
  },
  {
   "cell_type": "code",
   "execution_count": 3,
   "metadata": {},
   "outputs": [
    {
     "name": "stdout",
     "output_type": "stream",
     "text": [
      "原使陣列大小 (2304,)\n",
      "更改後的陣列大小 (48, 48)\n"
     ]
    },
    {
     "data": {
      "image/png": "[encoded data removed]",
      "text/plain": [
       "<Figure size 432x288 with 1 Axes>"
      ]
     },
     "metadata": {
      "needs_background": "light"
     },
     "output_type": "display_data"
    }
   ],
   "source": [
    "# 轉為陣列\n",
    "img = np.array(arr)\n",
    "print(\"原使陣列大小\", img.shape)\n",
    "\n",
    "# 更改大小並轉為float\n",
    "reimg = img.reshape(48,48).astype(np.float32)\n",
    "print(\"更改後的陣列大小\", reimg.shape)\n",
    "\n",
    "# 打印影像\n",
    "plt.imshow(reimg, cmap='gray')\n",
    "plt.show()"
   ]
  },
  {
   "cell_type": "code",
   "execution_count": 4,
   "metadata": {},
   "outputs": [
    {
     "name": "stdout",
     "output_type": "stream",
     "text": [
      "更改為輸入的維度： (1, 48, 48, 1)\n"
     ]
    }
   ],
   "source": [
    "from tensorflow import keras\n",
    "model = keras.models.load_model('model.h5')\n",
    "\n",
    "cropped_img = np.expand_dims(np.expand_dims(reimg, -1), 0)\n",
    "\n",
    "print(\"更改為輸入的維度：\",cropped_img.shape)"
   ]
  },
  {
   "cell_type": "code",
   "execution_count": 5,
   "metadata": {},
   "outputs": [],
   "source": [
    "prediction = model.predict(cropped_img)[0]"
   ]
  },
  {
   "cell_type": "code",
   "execution_count": 6,
   "metadata": {},
   "outputs": [
    {
     "name": "stdout",
     "output_type": "stream",
     "text": [
      "各機率值為:\n",
      " [1.2742035e-03 2.1847053e-07 7.9021333e-03 6.8850744e-01 1.6483208e-03\n",
      " 1.4902281e-02 2.8576541e-01]\n"
     ]
    }
   ],
   "source": [
    "print(\"各機率值為:\\n\",prediction)"
   ]
  },
  {
   "cell_type": "code",
   "execution_count": 7,
   "metadata": {},
   "outputs": [
    {
     "name": "stdout",
     "output_type": "stream",
     "text": [
      "最大機率為: 0.6885074377059937\n",
      "預測為: happy\n"
     ]
    }
   ],
   "source": [
    "pred_array = prediction.tolist()\n",
    "\n",
    "predictions = {\n",
    "        \"angry\": float(prediction[0]),\n",
    "        \"disgusted\": float(prediction[1]),\n",
    "        \"fearful\": float(prediction[2]),\n",
    "        \"happy\": float(prediction[3]),\n",
    "        \"sad\": float(prediction[4]),\n",
    "        \"surprised\": float(prediction[5]),\n",
    "        \"neutral\": float(prediction[6])\n",
    "    }\n",
    "\n",
    "# 提取最大機率與預測名稱\n",
    "probability = predictions[max(predictions, key=predictions.get)]\n",
    "print(\"最大機率為:\",probability)\n",
    "prediction_name = max(predictions, key=predictions.get)\n",
    "print(\"預測為:\",prediction_name)"
   ]
  },
  {
   "cell_type": "code",
   "execution_count": null,
   "metadata": {},
   "outputs": [],
   "source": []
  }
 ],
 "metadata": {
  "kernelspec": {
   "display_name": "Python 3",
   "language": "python",
   "name": "python3"
  },
  "language_info": {
   "codemirror_mode": {
    "name": "ipython",
    "version": 3
   },
   "file_extension": ".py",
   "mimetype": "text/x-python",
   "name": "python",
   "nbconvert_exporter": "python",
   "pygments_lexer": "ipython3",
   "version": "3.6.10"
  }
 },
 "nbformat": 4,
 "nbformat_minor": 4
}
