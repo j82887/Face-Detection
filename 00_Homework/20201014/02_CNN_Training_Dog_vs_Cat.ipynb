{
  "nbformat": 4,
  "nbformat_minor": 0,
  "metadata": {
    "colab": {
      "name": "CNN Training - Dog vs. Cat.ipynb",
      "provenance": [],
      "collapsed_sections": []
    },
    "kernelspec": {
      "name": "python3",
      "display_name": "Python 3"
    },
    "accelerator": "TPU"
  },
  "cells": [
    {
      "cell_type": "code",
      "metadata": {
        "id": "PrmsjdlldY-A",
        "outputId": "c397d230-bc6d-42f5-fca6-2deeb4341891",
        "colab": {
          "base_uri": "https://localhost:8080/",
          "height": 34
        }
      },
      "source": [
        "from google.colab import drive\n",
        "drive.mount('/content/drive')"
      ],
      "execution_count": 1,
      "outputs": [
        {
          "output_type": "stream",
          "text": [
            "Mounted at /content/drive\n"
          ],
          "name": "stdout"
        }
      ]
    },
    {
      "cell_type": "code",
      "metadata": {
        "id": "Ra1aHX_reSr5"
      },
      "source": [
        "! cp \"/content/drive/My Drive/Dataset/dogs-vs-cats/test1.zip\" /content/\n",
        "! cp \"/content/drive/My Drive/Dataset/dogs-vs-cats/train.zip\" /content/\n",
        "\n",
        "! unzip /content/test1.zip > data_unzip.log\n",
        "! unzip /content/train.zip > data_unzip.log"
      ],
      "execution_count": 2,
      "outputs": []
    },
    {
      "cell_type": "code",
      "metadata": {
        "id": "ZWxDTH6-eZ3h"
      },
      "source": [
        "import os\n",
        "import numpy as np\n",
        "\n",
        "im_W, im_H = 100, 100\n",
        "datachannel = 3\n",
        "\n",
        "class_filenames = os.listdir(\"/content/train\")\n",
        "data_2d = np.empty((len(class_filenames), im_W,im_H, datachannel), dtype=\"uint8\")\n",
        "label = [0] * len(class_filenames)"
      ],
      "execution_count": 3,
      "outputs": []
    },
    {
      "cell_type": "code",
      "metadata": {
        "id": "fSiYNLAHe9h9"
      },
      "source": [
        "from PIL import Image\n",
        "\n",
        "for i in range(len(class_filenames)):\n",
        "    \n",
        "    if(class_filenames[i][0] == 'c'):\n",
        "        label[i] = 0\n",
        "    if(class_filenames[i][0] == 'd'):\n",
        "        label[i] = 1\n",
        "    \n",
        "    img = Image.open(\"/content/train/\" + class_filenames[i])\n",
        "    reimg = img.resize((im_W,im_H))\n",
        "    \n",
        "    npimg_2d = np.asarray(reimg, dtype=\"uint8\")\n",
        "    data_2d[i,:,:,:] = npimg_2d"
      ],
      "execution_count": 4,
      "outputs": []
    },
    {
      "cell_type": "code",
      "metadata": {
        "id": "NLh5k31XfSPp"
      },
      "source": [
        "from keras.utils import to_categorical\n",
        "\n",
        "label_ohe = to_categorical(label)\n",
        "non_data_2d = data_2d.astype('float32')/255"
      ],
      "execution_count": 5,
      "outputs": []
    },
    {
      "cell_type": "code",
      "metadata": {
        "id": "potqM3EsgI8U",
        "outputId": "237804e4-5d15-4598-c624-034da98f9651",
        "colab": {
          "base_uri": "https://localhost:8080/",
          "height": 622
        }
      },
      "source": [
        "from tensorflow.keras.models import Sequential\n",
        "from tensorflow.keras.layers import Dense, Conv2D, MaxPooling2D, Flatten, Dropout\n",
        "\n",
        "cnn = Sequential()\n",
        "cnn.add(Conv2D(32,(5,5),activation='relu', padding='same', input_shape=(100,100,3)))\n",
        "\n",
        "cnn.add(Dropout(0.2))\n",
        "cnn.add(MaxPooling2D((2,2)))\n",
        "\n",
        "cnn.add(Conv2D(64,(4,4),activation='relu', padding='same'))\n",
        "cnn.add(Dropout(0.2))\n",
        "cnn.add(MaxPooling2D((2,2)))\n",
        "\n",
        "cnn.add(Conv2D(128,(3,3),activation='relu', padding='same'))\n",
        "cnn.add(Dropout(0.2))\n",
        "cnn.add(MaxPooling2D((2,2)))\n",
        "\n",
        "cnn.add(Flatten())\n",
        "cnn.add(Dropout(0.2))\n",
        "\n",
        "cnn.add(Dense(128, activation='relu'))\n",
        "cnn.add(Dropout(0.5))\n",
        "\n",
        "cnn.add(Dense(2, activation='softmax'))\n",
        "\n",
        "cnn.summary()"
      ],
      "execution_count": 6,
      "outputs": [
        {
          "output_type": "stream",
          "text": [
            "Model: \"sequential\"\n",
            "_________________________________________________________________\n",
            "Layer (type)                 Output Shape              Param #   \n",
            "=================================================================\n",
            "conv2d (Conv2D)              (None, 100, 100, 32)      2432      \n",
            "_________________________________________________________________\n",
            "dropout (Dropout)            (None, 100, 100, 32)      0         \n",
            "_________________________________________________________________\n",
            "max_pooling2d (MaxPooling2D) (None, 50, 50, 32)        0         \n",
            "_________________________________________________________________\n",
            "conv2d_1 (Conv2D)            (None, 50, 50, 64)        32832     \n",
            "_________________________________________________________________\n",
            "dropout_1 (Dropout)          (None, 50, 50, 64)        0         \n",
            "_________________________________________________________________\n",
            "max_pooling2d_1 (MaxPooling2 (None, 25, 25, 64)        0         \n",
            "_________________________________________________________________\n",
            "conv2d_2 (Conv2D)            (None, 25, 25, 128)       73856     \n",
            "_________________________________________________________________\n",
            "dropout_2 (Dropout)          (None, 25, 25, 128)       0         \n",
            "_________________________________________________________________\n",
            "max_pooling2d_2 (MaxPooling2 (None, 12, 12, 128)       0         \n",
            "_________________________________________________________________\n",
            "flatten (Flatten)            (None, 18432)             0         \n",
            "_________________________________________________________________\n",
            "dropout_3 (Dropout)          (None, 18432)             0         \n",
            "_________________________________________________________________\n",
            "dense (Dense)                (None, 128)               2359424   \n",
            "_________________________________________________________________\n",
            "dropout_4 (Dropout)          (None, 128)               0         \n",
            "_________________________________________________________________\n",
            "dense_1 (Dense)              (None, 2)                 258       \n",
            "=================================================================\n",
            "Total params: 2,468,802\n",
            "Trainable params: 2,468,802\n",
            "Non-trainable params: 0\n",
            "_________________________________________________________________\n"
          ],
          "name": "stdout"
        }
      ]
    },
    {
      "cell_type": "code",
      "metadata": {
        "id": "zkx9zaqQiV1e"
      },
      "source": [
        "cnn.compile(loss='categorical_crossentropy', optimizer='adam', metrics=['acc'])"
      ],
      "execution_count": 7,
      "outputs": []
    },
    {
      "cell_type": "code",
      "metadata": {
        "id": "JQtuWaI4xlUh",
        "outputId": "a3323e05-5fd9-49d6-d0cc-629789f6b60c",
        "colab": {
          "base_uri": "https://localhost:8080/",
          "height": 1000
        }
      },
      "source": [
        "history = cnn.fit(x=non_data_2d, y=label_ohe, batch_size=100, epochs=30, validation_split=0.1)"
      ],
      "execution_count": 8,
      "outputs": [
        {
          "output_type": "stream",
          "text": [
            "Epoch 1/30\n",
            "225/225 [==============================] - 733s 3s/step - loss: 0.6526 - acc: 0.6189 - val_loss: 0.6029 - val_acc: 0.7184\n",
            "Epoch 2/30\n",
            "225/225 [==============================] - 731s 3s/step - loss: 0.5609 - acc: 0.7146 - val_loss: 0.5419 - val_acc: 0.7572\n",
            "Epoch 3/30\n",
            "225/225 [==============================] - 730s 3s/step - loss: 0.5052 - acc: 0.7536 - val_loss: 0.4779 - val_acc: 0.8004\n",
            "Epoch 4/30\n",
            "225/225 [==============================] - 734s 3s/step - loss: 0.4507 - acc: 0.7896 - val_loss: 0.4265 - val_acc: 0.8208\n",
            "Epoch 5/30\n",
            "225/225 [==============================] - 735s 3s/step - loss: 0.3999 - acc: 0.8192 - val_loss: 0.3800 - val_acc: 0.8428\n",
            "Epoch 6/30\n",
            "225/225 [==============================] - 733s 3s/step - loss: 0.3671 - acc: 0.8361 - val_loss: 0.3991 - val_acc: 0.8308\n",
            "Epoch 7/30\n",
            "225/225 [==============================] - 731s 3s/step - loss: 0.3302 - acc: 0.8575 - val_loss: 0.3665 - val_acc: 0.8488\n",
            "Epoch 8/30\n",
            "225/225 [==============================] - 728s 3s/step - loss: 0.3046 - acc: 0.8666 - val_loss: 0.3294 - val_acc: 0.8644\n",
            "Epoch 9/30\n",
            "225/225 [==============================] - 734s 3s/step - loss: 0.2680 - acc: 0.8868 - val_loss: 0.3346 - val_acc: 0.8636\n",
            "Epoch 10/30\n",
            "225/225 [==============================] - 736s 3s/step - loss: 0.2421 - acc: 0.8994 - val_loss: 0.3291 - val_acc: 0.8644\n",
            "Epoch 11/30\n",
            "225/225 [==============================] - 730s 3s/step - loss: 0.2188 - acc: 0.9097 - val_loss: 0.4174 - val_acc: 0.8080\n",
            "Epoch 12/30\n",
            "225/225 [==============================] - 729s 3s/step - loss: 0.1995 - acc: 0.9194 - val_loss: 0.3178 - val_acc: 0.8684\n",
            "Epoch 13/30\n",
            "225/225 [==============================] - 728s 3s/step - loss: 0.1810 - acc: 0.9264 - val_loss: 0.3431 - val_acc: 0.8600\n",
            "Epoch 14/30\n",
            "225/225 [==============================] - 729s 3s/step - loss: 0.1663 - acc: 0.9342 - val_loss: 0.4099 - val_acc: 0.8276\n",
            "Epoch 15/30\n",
            "225/225 [==============================] - 735s 3s/step - loss: 0.1516 - acc: 0.9376 - val_loss: 0.3281 - val_acc: 0.8680\n",
            "Epoch 16/30\n",
            "225/225 [==============================] - 733s 3s/step - loss: 0.1355 - acc: 0.9465 - val_loss: 0.3529 - val_acc: 0.8596\n",
            "Epoch 17/30\n",
            "225/225 [==============================] - 733s 3s/step - loss: 0.1226 - acc: 0.9535 - val_loss: 0.3231 - val_acc: 0.8764\n",
            "Epoch 18/30\n",
            "225/225 [==============================] - 736s 3s/step - loss: 0.1162 - acc: 0.9551 - val_loss: 0.3328 - val_acc: 0.8712\n",
            "Epoch 19/30\n",
            "225/225 [==============================] - 734s 3s/step - loss: 0.1069 - acc: 0.9590 - val_loss: 0.3294 - val_acc: 0.8724\n",
            "Epoch 20/30\n",
            "225/225 [==============================] - 728s 3s/step - loss: 0.1098 - acc: 0.9582 - val_loss: 0.3910 - val_acc: 0.8520\n",
            "Epoch 21/30\n",
            "225/225 [==============================] - 727s 3s/step - loss: 0.1018 - acc: 0.9620 - val_loss: 0.3356 - val_acc: 0.8812\n",
            "Epoch 22/30\n",
            "225/225 [==============================] - 725s 3s/step - loss: 0.0942 - acc: 0.9636 - val_loss: 0.3493 - val_acc: 0.8700\n",
            "Epoch 23/30\n",
            "225/225 [==============================] - 727s 3s/step - loss: 0.0890 - acc: 0.9667 - val_loss: 0.4087 - val_acc: 0.8704\n",
            "Epoch 24/30\n",
            "225/225 [==============================] - 730s 3s/step - loss: 0.0940 - acc: 0.9642 - val_loss: 0.3666 - val_acc: 0.8716\n",
            "Epoch 25/30\n",
            "225/225 [==============================] - 729s 3s/step - loss: 0.0864 - acc: 0.9680 - val_loss: 0.3924 - val_acc: 0.8648\n",
            "Epoch 26/30\n",
            "225/225 [==============================] - 730s 3s/step - loss: 0.0808 - acc: 0.9695 - val_loss: 0.3815 - val_acc: 0.8716\n",
            "Epoch 27/30\n",
            "225/225 [==============================] - 734s 3s/step - loss: 0.0779 - acc: 0.9702 - val_loss: 0.3749 - val_acc: 0.8752\n",
            "Epoch 28/30\n",
            "225/225 [==============================] - 732s 3s/step - loss: 0.0800 - acc: 0.9686 - val_loss: 0.3982 - val_acc: 0.8696\n",
            "Epoch 29/30\n",
            "225/225 [==============================] - 731s 3s/step - loss: 0.0763 - acc: 0.9720 - val_loss: 0.3634 - val_acc: 0.8724\n",
            "Epoch 30/30\n",
            "225/225 [==============================] - 732s 3s/step - loss: 0.0816 - acc: 0.9695 - val_loss: 0.3685 - val_acc: 0.8772\n"
          ],
          "name": "stdout"
        }
      ]
    },
    {
      "cell_type": "code",
      "metadata": {
        "id": "wYZUKDCHlVbe",
        "outputId": "61308cdb-399c-44d9-81bf-bc58e1d79d77",
        "colab": {
          "base_uri": "https://localhost:8080/",
          "height": 545
        }
      },
      "source": [
        "import matplotlib.pyplot as plt\n",
        "\n",
        "acc = history.history['acc']\n",
        "val_acc = history.history['val_acc']\n",
        "loss = history.history['loss']\n",
        "val_loss = history.history['val_loss']\n",
        "\n",
        "plt.title(\"Training & Validation Acc\")\n",
        "plt.plot(np.arange(len(acc)), acc,color='b', label=\"Training set\")\n",
        "plt.plot(np.arange(len(val_acc)), val_acc,color='r', label=\"Validation set\")\n",
        "plt.legend(loc='lower right')\n",
        "plt.show()\n",
        "\n",
        "plt.title(\"Training & Validation Loss\")\n",
        "plt.plot(np.arange(len(loss)), loss,color='b', label=\"Training set\")\n",
        "plt.plot(np.arange(len(val_loss)), val_loss,color='r', label=\"Validation set\")\n",
        "plt.legend(loc='lower right')\n",
        "plt.show()"
      ],
      "execution_count": 9,
      "outputs": [
        {
          "output_type": "display_data",
          "data": {
            "image/png": "[encoded data removed]",
            "text/plain": [
              "<Figure size 432x288 with 1 Axes>"
            ]
          },
          "metadata": {
            "tags": [],
            "needs_background": "light"
          }
        },
        {
          "output_type": "display_data",
          "data": {
            "image/png": "[encoded data removed]",
            "text/plain": [
              "<Figure size 432x288 with 1 Axes>"
            ]
          },
          "metadata": {
            "tags": [],
            "needs_background": "light"
          }
        }
      ]
    },
    {
      "cell_type": "code",
      "metadata": {
        "id": "2CmJz3d0zQdG",
        "outputId": "b24a4fb6-831c-4d50-eb47-f02fb61bb8e8",
        "colab": {
          "base_uri": "https://localhost:8080/",
          "height": 384
        }
      },
      "source": [
        "from sklearn.metrics import confusion_matrix, accuracy_score\n",
        "import seaborn as sns\n",
        "\n",
        "train_loss, train_acc = cnn.evaluate(non_data_2d, label_ohe)\n",
        "print(\"訓練集的準確度為：%0.4f\" %(train_acc))\n",
        "print(\"訓練集的損失值為：%0.4f\" %(train_loss))\n",
        "\n",
        "predict = cnn.predict(non_data_2d)\n",
        "predictions = [np.argmax(one_hot)for one_hot in predict]\n",
        "\n",
        "cm = confusion_matrix(label, predictions)\n",
        "plt.figure(figsize=(5,5))\n",
        "sns.heatmap(cm, annot=True, fmt=\".0f\", linewidths=1.0, square = True, cmap = 'Blues_r',annot_kws={\"size\": 20});\n",
        "plt.ylabel('Actual label', size = 18);\n",
        "plt.xlabel('Predicted label', size = 18);\n",
        "plt.title('Accuracy: %0.4f' %(train_acc), size = 20)"
      ],
      "execution_count": 10,
      "outputs": [
        {
          "output_type": "stream",
          "text": [
            "782/782 [==============================] - 189s 242ms/step - loss: 0.0615 - acc: 0.9856\n",
            "訓練集的準確度為：0.9856\n",
            "訓練集的損失值為：0.0615\n"
          ],
          "name": "stdout"
        },
        {
          "output_type": "execute_result",
          "data": {
            "text/plain": [
              "Text(0.5, 1.0, 'Accuracy: 0.9856')"
            ]
          },
          "metadata": {
            "tags": []
          },
          "execution_count": 10
        },
        {
          "output_type": "display_data",
          "data": {
            "image/png": "[encoded data removed]",
            "text/plain": [
              "<Figure size 360x360 with 2 Axes>"
            ]
          },
          "metadata": {
            "tags": [],
            "needs_background": "light"
          }
        }
      ]
    },
    {
      "cell_type": "code",
      "metadata": {
        "id": "Z1vYcRmSzsmU"
      },
      "source": [
        "from keras.models import load_model\n",
        "\n",
        "cnn.save('cnn_dog_vs_cat.h5')\n",
        "\n",
        "from tensorflow.keras.models import load_model\n",
        "\n",
        "cnn = load_model('cnn_dog_vs_cat.h5')"
      ],
      "execution_count": 11,
      "outputs": []
    }
  ]
}