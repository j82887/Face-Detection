{
 "cells": [
  {
   "cell_type": "code",
   "execution_count": 1,
   "metadata": {},
   "outputs": [],
   "source": [
    "import tkinter as tk \n",
    "from PIL import Image, ImageTk\n",
    "from tkinter import filedialog, messagebox \n",
    "from tkinter.font import Font \n",
    "import pandas as pd \n",
    "import numpy as np\n",
    "import joblib \n",
    "from tensorflow.keras.models import load_model\n",
    "import cv2\n",
    "\n",
    "import warnings\n",
    "warnings.filterwarnings(\"ignore\")\n",
    "\n",
    "cnn = load_model('cnn_mnist.h5', compile = False)\n",
    "feature_name = np.arange(0,10,1).tolist()"
   ]
  },
  {
   "cell_type": "code",
   "execution_count": 2,
   "metadata": {},
   "outputs": [],
   "source": [
    "def open_file():\n",
    "    \n",
    "    filename = filedialog.askopenfilename(title='Select file', \n",
    "                                          filetypes=[(\"all files\",\"*.*\"),\n",
    "                                                     (\"png files\",\"*.png\"),\n",
    "                                                     (\"jpg files\",\"*.jpg\"),\n",
    "                                                     (\"jpeg files\",\"*.jpeg\")])\n",
    "    img = Image.open(filename).resize((250,250))\n",
    "    imgtk = ImageTk.PhotoImage(img)\n",
    "    label_img.config(image = imgtk)\n",
    "    label_img.image = imgtk\n",
    "    \n",
    "    np_img = cv2.imread(filename)\n",
    "    resize_img = cv2.resize(np_img,(28,28))\n",
    "    gray_img = cv2.cvtColor(resize_img, cv2.COLOR_BGR2GRAY)\n",
    "    nor_img = gray_img.astype('float32')/255\n",
    "    input_img = np.expand_dims(np.expand_dims(nor_img, -1), 0)\n",
    "    predict = cnn.predict(input_img)\n",
    "    predictions = [np.argmax(one_hot)for one_hot in predict]\n",
    "    label_predict.config(text = \"%s : %0.4f\" %(feature_name[predictions[0]], max(predict[0])))"
   ]
  },
  {
   "cell_type": "code",
   "execution_count": null,
   "metadata": {},
   "outputs": [],
   "source": [
    "app = tk.Tk()\n",
    "app.title('Mnist')\n",
    "app.geometry('420x420')\n",
    "\n",
    "title_label_Font = Font(family=\"Times\", size=18, underline=1)\n",
    "subtitle_label_Font_1 = Font(family=\"Times\", size=14)\n",
    "\n",
    "frame_title = tk.Frame(app)\n",
    "frame_title.grid(column=0, row=0, ipadx=3, pady=3)\n",
    "\n",
    "frame_image = tk.Frame(app)\n",
    "frame_image.grid(column=0, row=1, ipadx=3, pady=3)\n",
    "\n",
    "frame_input = tk.Frame(app)\n",
    "frame_input.grid(column=0, row=2, ipadx=3, pady=3)\n",
    "\n",
    "label_Title = tk.Label(frame_title, text=\"Mnist Classification\", font=title_label_Font)\n",
    "label_Title.grid(column=0, row=0, ipadx=100, pady=0)\n",
    "\n",
    "label_Subtitle = tk.Label(frame_title, text=\"※ Please enter the correct image.\", font=subtitle_label_Font_1)\n",
    "label_Subtitle.grid(column=0, row=1, ipadx=5, pady=5)\n",
    "\n",
    "img = Image.open(\"pre-inserted picture.png\").resize((250,250))\n",
    "imgtk = ImageTk.PhotoImage(img)\n",
    "label_img = tk.Label(frame_image, image=imgtk)\n",
    "label_img.grid(column=0, row=0, ipadx=5, pady=0)\n",
    "\n",
    "predict_name = \"Prediction : No file\"\n",
    "label_predict = tk.Label(frame_input, text = predict_name, font=subtitle_label_Font_1)\n",
    "label_predict.grid(column=0, row=0, pady=0)\n",
    "\n",
    "openButton = tk.Button(frame_input, text = 'Open file', command = open_file)\n",
    "openButton.grid(column=0, row=1, pady=10)\n",
    "\n",
    "app.mainloop()"
   ]
  }
 ],
 "metadata": {
  "kernelspec": {
   "display_name": "Python 3",
   "language": "python",
   "name": "python3"
  },
  "language_info": {
   "codemirror_mode": {
    "name": "ipython",
    "version": 3
   },
   "file_extension": ".py",
   "mimetype": "text/x-python",
   "name": "python",
   "nbconvert_exporter": "python",
   "pygments_lexer": "ipython3",
   "version": "3.6.10"
  }
 },
 "nbformat": 4,
 "nbformat_minor": 4
}
