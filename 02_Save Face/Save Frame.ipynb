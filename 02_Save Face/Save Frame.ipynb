{
 "cells": [
  {
   "cell_type": "code",
   "execution_count": 4,
   "metadata": {},
   "outputs": [],
   "source": [
    "import cv2\n",
    "import sys\n",
    "from PIL import Image\n",
    "import imageio"
   ]
  },
  {
   "cell_type": "code",
   "execution_count": 5,
   "metadata": {},
   "outputs": [],
   "source": [
    "def CatchPICFromVideo(window_name, camera_idx, path_name):\n",
    "    \n",
    "    cv2.namedWindow(window_name)\n",
    "    cap = cv2.VideoCapture(\"Video1.mp4\")               \n",
    "    \n",
    "    num = 0    \n",
    "    while cap.isOpened():\n",
    "        ok, frame = cap.read() \n",
    "        if not ok:            \n",
    "            break                                      \n",
    "                \n",
    "        img_name = '%d.jpg'%(num)        \n",
    "        image = cv2.cvtColor(frame, cv2.COLOR_BGR2RGB)\n",
    "        imageio.imwrite(path_name+'Frame_'+img_name,image)  \n",
    "                                \n",
    "        num += 1                \n",
    "\n",
    "        font = cv2.FONT_HERSHEY_SIMPLEX\n",
    "        cv2.putText(frame,'Num:%d' % (num),(15, 15), font, 0.5, (0,255,255),1)                \n",
    "\n",
    "        cv2.imshow(window_name, frame)        \n",
    "        c = cv2.waitKey(10)\n",
    "        if c & 0xFF == ord('q'):\n",
    "            break        \n",
    "    \n",
    "    cap.release()\n",
    "    cv2.destroyAllWindows() "
   ]
  },
  {
   "cell_type": "code",
   "execution_count": 6,
   "metadata": {},
   "outputs": [],
   "source": [
    "if __name__ == '__main__':\n",
    "    CatchPICFromVideo(\"catch fice\", 0, \"Save Frame/\")"
   ]
  }
 ],
 "metadata": {
  "kernelspec": {
   "display_name": "Python 3",
   "language": "python",
   "name": "python3"
  },
  "language_info": {
   "codemirror_mode": {
    "name": "ipython",
    "version": 3
   },
   "file_extension": ".py",
   "mimetype": "text/x-python",
   "name": "python",
   "nbconvert_exporter": "python",
   "pygments_lexer": "ipython3",
   "version": "3.6.10"
  }
 },
 "nbformat": 4,
 "nbformat_minor": 4
}
