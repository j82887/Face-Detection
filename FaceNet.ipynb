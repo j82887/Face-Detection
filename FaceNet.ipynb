{
 "cells": [
  {
   "cell_type": "code",
   "execution_count": 6,
   "metadata": {},
   "outputs": [],
   "source": [
    "from tensorflow import keras\n",
    "\n",
    "model = keras.models.load_model(\"facenet_keras.h5\", compile=False)"
   ]
  },
  {
   "cell_type": "code",
   "execution_count": null,
   "metadata": {},
   "outputs": [],
   "source": [
    "import numpy as np\n",
    "import os, time\n",
    "import cv2\n",
    "from skimage.transform import resize\n",
    "from scipy.spatial import distance\n",
    "\n",
    "#驗證compares列表中相片的人與valid相片中的人\n",
    "valid = \"200127/200127_1.jpg\"\n",
    "compares = [\"200002/200002_1.jpg\", \"200127/200127_1\", \"200127/o.jpg\" ]\n",
    "\n",
    "#用OpenCV的Cascade classifier來偵測臉部，不一定跟Facenet一樣要用MTCNN。\n",
    "cascade_path = \"haarcascade_frontalface_default.xml\"\n",
    "\n",
    "#我們的人像相片都放置於validPicPath\n",
    "validPicPath = \"members/\"\n",
    "\n",
    "#此版Facenet model需要的相片尺寸為160×160\n",
    "image_size = 160"
   ]
  },
  {
   "cell_type": "code",
   "execution_count": null,
   "metadata": {},
   "outputs": [],
   "source": [
    "#圖像白化（whitening）可用於對過度曝光或低曝光的圖片進行處理，處理的方式就是改變圖像的平均像素值為 0 ，改變圖像的方差為單位方差 1。\n",
    "def prewhiten(x):\n",
    "\n",
    "    if x.ndim == 4:\n",
    "        axis = (1, 2, 3)\n",
    "        size = x[0].size\n",
    "\n",
    "    elif x.ndim == 3:\n",
    "        axis = (0, 1, 2)\n",
    "        size = x.size\n",
    "\n",
    "    else:\n",
    "        raise ValueError(\"Dimension should be 3 or 4\")\n",
    "    mean = np.mean(x, axis=axis, keepdims=True)\n",
    "    std = np.std(x, axis=axis, keepdims=True)\n",
    "    std_adj = np.maximum(std, 1.0/np.sqrt(size))\n",
    "    y = (x – mean) / std_adj\n",
    "\n",
    "    return y"
   ]
  },
  {
   "cell_type": "code",
   "execution_count": null,
   "metadata": {},
   "outputs": [],
   "source": [
    "#使用L1或L2標準化圖像，可強化其特徵。\n",
    "def l2_normalize(x, axis=-1, epsilon=1e-10):\n",
    "\n",
    "    output = x / np.sqrt(np.maximum(np.sum(np.square(x), axis=axis, keepdims=True), epsilon))\n",
    "\n",
    "    return output"
   ]
  },
  {
   "cell_type": "code",
   "execution_count": null,
   "metadata": {},
   "outputs": [],
   "source": [
    "#偵測並取得臉孔area，接著再resize為模型要求的尺寸(下方例子並未作alignment)\n",
    "def align_image(img, margin):\n",
    "\n",
    "    cascade = cv2.CascadeClassifier(cascade_path)\n",
    "    faces = cascade.detectMultiScale(img, scaleFactor=1.1, minNeighbors=3)\n",
    "\n",
    "    if(len(faces)>0):\n",
    "        (x, y, w, h) = faces[0]\n",
    "        face = img[y:y+h, x:x+w]\n",
    "        faceMargin = np.zeros((h+margin*2, w+margin*2, 3), dtype = “uint8″)\n",
    "        faceMargin[margin:margin+h, margin:margin+w] = face\n",
    "        cv2.imwrite(str(time.time())+\".jpg\", faceMargin)\n",
    "        aligned = resize(faceMargin, (image_size, image_size), mode=’reflect’)\n",
    "        cv2.imwrite(str(time.time())+\"_aligned.jpg\", aligned)\n",
    "\n",
    "        return aligned\n",
    "\n",
    "    else:\n",
    "        return None"
   ]
  },
  {
   "cell_type": "code",
   "execution_count": null,
   "metadata": {},
   "outputs": [],
   "source": [
    "#圖像的預處理(即前述的幾項步驟)\n",
    "def preProcess(img):\n",
    "    whitenImg = prewhiten(img)\n",
    "    whitenImg = whitenImg[np.newaxis, :]\n",
    "    return whitenImg\n",
    "\n",
    "imgValid = validPicPath + valid\n",
    "aligned = align_image(cv2.imread(imgValid), 6)\n",
    "\n",
    "if(aligned is None):\n",
    "    print(\"Cannot find any face in image: {}\".format(imgValid))\n",
    "\n",
    "else:\n",
    "    faceImg = preProcess(aligned)\n",
    "    \n",
    "    #–> model會輸出128維度的臉孔特徵向量，接著我們將它們合併並進行L2正規化。Z\n",
    "    embs_valid = l2_normalize(np.concatenate(model.predict(faceImg)))\n",
    "\n",
    "    #同上方的valid圖片，依序取得各圖片人臉的臉孔特徵向量，再與valid進行歐氏距離計算。\n",
    "    for member in compares:\n",
    "\n",
    "        img_file = validPicPath + member\n",
    "        aligned = align_image(cv2.imread(img_file), 6)\n",
    "\n",
    "        if(aligned is not None):\n",
    "            faceImg = preProcess(aligned)\n",
    "            embs = l2_normalize(np.concatenate(model.predict(faceImg)))\n",
    "            distanceNum = distance.euclidean(embs_valid, embs)\n",
    "            print(\"Diff with {} is {}\".format(member, distanceNum))"
   ]
  }
 ],
 "metadata": {
  "kernelspec": {
   "display_name": "Python 3",
   "language": "python",
   "name": "python3"
  },
  "language_info": {
   "codemirror_mode": {
    "name": "ipython",
    "version": 3
   },
   "file_extension": ".py",
   "mimetype": "text/x-python",
   "name": "python",
   "nbconvert_exporter": "python",
   "pygments_lexer": "ipython3",
   "version": "3.6.10"
  }
 },
 "nbformat": 4,
 "nbformat_minor": 4
}
